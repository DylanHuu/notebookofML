{
 "cells": [
  {
   "cell_type": "markdown",
   "metadata": {
    "collapsed": true
   },
   "source": [
    "<center><font size=5 face=\"黑体\">线性回归</font></center>"
   ]
  },
  {
   "cell_type": "markdown",
   "metadata": {},
   "source": [
    "线性回归的假设是在输入X1,...,Xp与回归方程E(Y|X)的关系是线性的"
   ]
  },
  {
   "cell_type": "markdown",
   "metadata": {},
   "source": [
    "对于输入向量$X^T =(X_1, X_2,..., X_p)$, 线性回归模型公式为：  \n",
    "\n",
    "$$f(X) = β_0 + \\sum_{j=1}^p(X_jβ_j).$$\n",
    "\n",
    "其中参数β是需要训练集数据$(x_1, y_1), …(x_N, y_N)$进行估计（estimate）的参数， $β = (β_0, β_1, …, β_p)^T$\n",
    "\n",
    "最流行的估计方法是最小二乘法，即最小化RSS(β)   \n",
    "$$RSS(β) = \\sum_{i=1}^N(y_i - f(x_i))^2 = \\sum_{i=1}^N(y_i - β_0 - \\sum_{j=1}^Nx_{ij} β_j)^2$$\n",
    "\n",
    "从统计学的角度来看，如果训练观测值$(x_i，y_i)$是从数据总体中独立随机抽签，则该标准是合理的。 即使xi不是随机抽取的，如果yi在输入xi的条件下是独立的，则该标准仍然有效"
   ]
  },
  {
   "attachments": {},
   "cell_type": "markdown",
   "metadata": {},
   "source": [
    "如何最小化RSS呢？\n",
    "\n",
    "RSS可以用矩阵形式表述：$RSS(β) = (y − Xβ)^T (y − Xβ)$\n",
    "\n",
    "对β进行求偏导：\n",
    "\n",
    "$$\\frac{∂RSS}{∂β} = −2X^T (y − Xβ)$$\n",
    "\n",
    "$$\\frac{∂^2RSS}{∂β∂β^T} = 2X^T X$$\n",
    "\n",
    "假设**X**为满列秩矩阵，且$X^T X$为正定矩阵，令一阶导数为0，即可求得唯一解：\n",
    "\n",
    "$$X^T (y − X β) = 0$$ \n",
    "\n",
    "$$\\hat{β} = (X_T X)^−1X^T y$$\n",
    "\n",
    "训练输入的拟合值则可以写成：\n",
    "\n",
    "$$\\hat{y} = X\\hat{β} = X(X^T X)^−1X^T y$$"
   ]
  },
  {
   "cell_type": "markdown",
   "metadata": {},
   "source": [
    "最小二乘参数估计的方差-协方差矩阵为\n",
    "$$Var(\\hatβ) = (X^T X)^{−1}σ^2$$, 其中$σ^2$为$y_i$的方差（假设是常数），而$σ^2$为的估计为：\n",
    "$$\\hatσ^2 = \\frac{1}{N-p-1}\\sum_{i=1}^N(y_i - \\hat{y}_i)^2$$\n",
    "分母中N-p-1而不是N，是为了使$\\hatσ^2$是$σ^2$的无偏估计$σ^2: E(\\hatσ^2) = σ^2$\n",
    "\n",
    "我们假设Y的条件期望在X1，…，Xp中是线性的，还假设Y围绕其期望的偏差是可加和高斯的，因此\n",
    "$$ Y = E(Y|X_i,...,X_p)+ε = β_0 + \\sum_{j=1}^pX_jβ_j+ε,$$\n",
    "其中ε是服从$ε ∼ N(0,σ^2)$分布的随机变量"
   ]
  },
  {
   "cell_type": "markdown",
   "metadata": {},
   "source": []
  }
 ],
 "metadata": {
  "kernelspec": {
   "display_name": "Python 3",
   "language": "python",
   "name": "python3"
  },
  "language_info": {
   "codemirror_mode": {
    "name": "ipython",
    "version": 3
   },
   "file_extension": ".py",
   "mimetype": "text/x-python",
   "name": "python",
   "nbconvert_exporter": "python",
   "pygments_lexer": "ipython3",
   "version": "3.6.5"
  }
 },
 "nbformat": 4,
 "nbformat_minor": 1
}
